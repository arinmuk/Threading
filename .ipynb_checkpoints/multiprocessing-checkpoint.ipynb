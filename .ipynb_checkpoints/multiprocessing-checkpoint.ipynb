{
 "cells": [
  {
   "cell_type": "code",
   "execution_count": 1,
   "id": "31f33b24",
   "metadata": {},
   "outputs": [],
   "source": [
    "import pandas as pd\n",
    "from sqlalchemy.dialects.mssql import pymssql\n",
    "import pymssql\n",
    "import threading\n",
    "import time, datetime\n",
    "from config import cloudM,cloudMpassword,sqluser,sqlpass,servername\n",
    "\n",
    "conn = pymssql.connect(server=servername, user=sqluser, password=sqlpass, database='CoronaVirus') \n",
    "cursor = conn.cursor()\n",
    "qry='SELECT * from cvirus' #4.28M"
   ]
  },
  {
   "cell_type": "code",
   "execution_count": 26,
   "id": "ced8a789",
   "metadata": {},
   "outputs": [
    {
     "name": "stdout",
     "output_type": "stream",
     "text": [
      "Total time is  155.03817343711853\n"
     ]
    }
   ],
   "source": [
    "start=time.time()\n",
    "df_minrating=pd.read_sql(qry,conn)\n",
    "df_minrating.to_csv('minrating.csv',index=False)\n",
    "end=time.time()\n",
    "print('Total time is ' , end - start)"
   ]
  },
  {
   "cell_type": "code",
   "execution_count": 2,
   "id": "9aae1e1e",
   "metadata": {},
   "outputs": [],
   "source": [
    "#chunk_range=((1,1000000),(1000001,2000000),(2000001,3000000),(3000001,4000000),(4000001,4285519))\n",
    "chunk_range=((1,200000),(200001,400000),(400001,600000),(600001,800000),(800001,1000000),(1000001,1200000),(1200001,1400000),(1400001,1600000),(1600001,1800000),(1800001,2000000),(2000001,2200000),(2200001,2400000))\n",
    "newsql = 'select * from cvirus with (nolock) where id between %(start)s and %(end)s'\n",
    "def create_csv(chunk):\n",
    "    print('Starting execution')\n",
    "    conn = pymssql.connect(server=servername, user=sqluser, password=sqlpass, database='CoronaVirus') \n",
    "    df_minrating=pd.read_sql(newsql,conn,params={'start':chunk[0],'end':chunk[1]})\n",
    "    df_minrating.to_csv('chunk_' + str(chunk[0]) + '.csv',index=False)"
   ]
  },
  {
   "cell_type": "code",
   "execution_count": 3,
   "id": "91a88148",
   "metadata": {},
   "outputs": [
    {
     "name": "stdout",
     "output_type": "stream",
     "text": [
      "Starting execution\n",
      "Starting execution\n",
      "Starting execution\n",
      "Starting execution\n",
      "Starting execution\n",
      "Starting execution\n",
      "Starting execution\n",
      "Starting execution\n",
      "Starting execution\n",
      "Starting execution\n",
      "Starting execution\n",
      "Starting execution\n",
      "Total time is  147.37260627746582\n"
     ]
    }
   ],
   "source": [
    "thread_list=[]\n",
    "start=time.time()\n",
    "for i in range(len(chunk_range)):\n",
    "    t=threading.Thread(target=create_csv,args=(chunk_range[i],))\n",
    "    thread_list.append(t)\n",
    "for thread in thread_list:\n",
    "    thread.start()\n",
    "for thread in thread_list:\n",
    "    thread.join()\n",
    "end=time.time()\n",
    "print('Total time is ' , end - start)"
   ]
  },
  {
   "cell_type": "code",
   "execution_count": null,
   "id": "5ec134a4",
   "metadata": {},
   "outputs": [],
   "source": []
  }
 ],
 "metadata": {
  "kernelspec": {
   "display_name": "Python 3 (ipykernel)",
   "language": "python",
   "name": "python3"
  },
  "language_info": {
   "codemirror_mode": {
    "name": "ipython",
    "version": 3
   },
   "file_extension": ".py",
   "mimetype": "text/x-python",
   "name": "python",
   "nbconvert_exporter": "python",
   "pygments_lexer": "ipython3",
   "version": "3.7.13"
  }
 },
 "nbformat": 4,
 "nbformat_minor": 5
}
